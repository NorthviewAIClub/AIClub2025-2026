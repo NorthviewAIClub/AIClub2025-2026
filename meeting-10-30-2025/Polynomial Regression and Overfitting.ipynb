{
  "cells": [
    {
      "cell_type": "code",
      "metadata": {
        "id": "SjQbutnTG8eR"
      },
      "execution_count": null,
      "outputs": [],
      "source": [
        "import numpy as np\n",
        "import matplotlib.pyplot as plt\n",
        "from sklearn.linear_model import LinearRegression, Ridge\n",
        "from sklearn.preprocessing import PolynomialFeatures\n",
        "from sklearn.pipeline import Pipeline\n",
        "from sklearn.metrics import mean_squared_error\n",
        "from sklearn.model_selection import train_test_split, KFold, cross_val_score\n",
        "\n",
        "# Helper function for neat plots\n",
        "def show():\n",
        "    plt.tight_layout()\n",
        "    plt.show()\n",
        "\n",
        "# Generate nonlinear dataset\n",
        "np.random.seed(7)\n",
        "X = np.linspace(-3, 3, 140).reshape(-1, 1)\n",
        "y_true = 0.5 * X**3 - X**2 + 2 * X\n",
        "y = y_true + np.random.randn(*y_true.shape) * 2.5"
      ],
      "id": "SjQbutnTG8eR"
    },
    {
      "cell_type": "code",
      "metadata": {
        "id": "wzItnWUkG8eS"
      },
      "execution_count": null,
      "outputs": [],
      "source": [
        "plt.figure(figsize=(6,4))\n",
        "plt.scatter(X, y, alpha=0.7)\n",
        "plt.title(\"Nonlinear dataset (cubic relationship + noise)\")\n",
        "plt.xlabel(\"x\"); plt.ylabel(\"y\")\n",
        "show()"
      ],
      "id": "wzItnWUkG8eS"
    },
    {
      "cell_type": "code",
      "metadata": {
        "id": "0PEy5e1JG8eT"
      },
      "execution_count": null,
      "outputs": [],
      "source": [
        "lin = LinearRegression().fit(X, y)\n",
        "y_lin = lin.predict(X)\n",
        "\n",
        "plt.figure(figsize=(6,4))\n",
        "plt.scatter(X, y, alpha=0.5, label=\"data\")\n",
        "plt.plot(X, y_lin, linewidth=2, label=\"linear fit\")\n",
        "plt.title(\"Linear Regression: underfitting a nonlinear relationship\")\n",
        "plt.xlabel(\"x\"); plt.ylabel(\"y\"); plt.legend()\n",
        "show()"
      ],
      "id": "0PEy5e1JG8eT"
    },
    {
      "cell_type": "markdown",
      "metadata": {
        "id": "5k1DrTa8G8eT"
      },
      "source": [
        "##Polynomial regression (degree = 3) — Good fit"
      ],
      "id": "5k1DrTa8G8eT"
    },
    {
      "cell_type": "code",
      "metadata": {
        "id": "NXTQyTIIG8eT"
      },
      "execution_count": null,
      "outputs": [],
      "source": [
        "deg_good = 3\n",
        "poly3 = Pipeline([\n",
        "    (\"poly\", PolynomialFeatures(degree=deg_good, include_bias=False)),\n",
        "    (\"lin\", LinearRegression())\n",
        "]).fit(X, y)\n",
        "\n",
        "y_poly3 = poly3.predict(X)\n",
        "\n",
        "plt.figure(figsize=(6,4))\n",
        "plt.scatter(X, y, alpha=0.5, label=\"data\")\n",
        "plt.plot(X, y_poly3, linewidth=2, label=f\"polynomial fit (degree={deg_good})\")\n",
        "plt.title(\"Polynomial Regression captures the curve\")\n",
        "plt.xlabel(\"x\"); plt.ylabel(\"y\"); plt.legend()\n",
        "show()"
      ],
      "id": "NXTQyTIIG8eT"
    },
    {
      "cell_type": "markdown",
      "metadata": {
        "id": "PH436UFMG8eT"
      },
      "source": [
        "##Underfitting vs Overfitting (Degrees 1, 3, 10)"
      ],
      "id": "PH436UFMG8eT"
    },
    {
      "cell_type": "code",
      "metadata": {
        "id": "zMaOKq14G8eU"
      },
      "execution_count": null,
      "outputs": [],
      "source": [
        "plt.figure(figsize=(6,4))\n",
        "plt.scatter(X, y, alpha=0.35, label=\"data\")\n",
        "for d in (1, 3, 30):\n",
        "    model = Pipeline([\n",
        "        (\"poly\", PolynomialFeatures(degree=d, include_bias=False)),\n",
        "        (\"lin\", LinearRegression())\n",
        "    ]).fit(X, y)\n",
        "    plt.plot(X, model.predict(X), linewidth=2, label=f\"degree={d}\")\n",
        "plt.title(\"Model complexity: underfit vs just right vs overfit\")\n",
        "plt.xlabel(\"x\"); plt.ylabel(\"y\"); plt.legend()\n",
        "show()"
      ],
      "id": "zMaOKq14G8eU"
    },
    {
      "cell_type": "markdown",
      "metadata": {
        "id": "9z18trfQG8eU"
      },
      "source": [
        "##Residuals for Degree 3"
      ],
      "id": "9z18trfQG8eU"
    },
    {
      "cell_type": "code",
      "metadata": {
        "id": "NGQrR6EDG8eU"
      },
      "execution_count": null,
      "outputs": [],
      "source": [
        "residuals = (y - y_poly3)\n",
        "plt.figure(figsize=(6,4))\n",
        "plt.scatter(X, residuals, alpha=0.6)\n",
        "plt.axhline(0, linestyle=\"--\", linewidth=1)\n",
        "plt.title(\"Residuals for degree-3 polynomial fit\")\n",
        "plt.xlabel(\"x\"); plt.ylabel(\"residual (y - ŷ)\")\n",
        "show()"
      ],
      "id": "NGQrR6EDG8eU"
    },
    {
      "cell_type": "markdown",
      "metadata": {
        "id": "97zA_ki3G8eU"
      },
      "source": [
        "##Bias–Variance Tradeoff: MSE vs Polynomial Degree"
      ],
      "id": "97zA_ki3G8eU"
    },
    {
      "cell_type": "code",
      "metadata": {
        "id": "Gx9Y1RMpG8eU"
      },
      "execution_count": null,
      "outputs": [],
      "source": [
        "X_train, X_test, y_train, y_test = train_test_split(X, y, test_size=0.25, random_state=42)\n",
        "deg_range = range(1, 16)\n",
        "train_mse, test_mse = [], []\n",
        "for d in deg_range:\n",
        "    model = Pipeline([\n",
        "        (\"poly\", PolynomialFeatures(degree=d, include_bias=False)),\n",
        "        (\"lin\", LinearRegression())\n",
        "    ]).fit(X_train, y_train)\n",
        "    train_mse.append(mean_squared_error(y_train, model.predict(X_train)))\n",
        "    test_mse.append(mean_squared_error(y_test, model.predict(X_test)))\n",
        "\n",
        "plt.figure(figsize=(6,4))\n",
        "plt.plot(list(deg_range), train_mse, marker=\"o\", label=\"train MSE\")\n",
        "plt.plot(list(deg_range), test_mse, marker=\"s\", label=\"test MSE\")\n",
        "plt.title(\"Bias–Variance Tradeoff: MSE vs polynomial degree\")\n",
        "plt.xlabel(\"polynomial degree\"); plt.ylabel(\"MSE\"); plt.legend()\n",
        "show()"
      ],
      "id": "Gx9Y1RMpG8eU"
    },
    {
      "cell_type": "markdown",
      "metadata": {
        "id": "kC2gtMSeG8eU"
      },
      "source": [
        "##Regularization (Ridge) — Taming Overfitting"
      ],
      "id": "kC2gtMSeG8eU"
    },
    {
      "cell_type": "code",
      "metadata": {
        "id": "GdCJMfHEG8eU"
      },
      "execution_count": null,
      "outputs": [],
      "source": [
        "deg_high = 10\n",
        "poly_high = PolynomialFeatures(degree=deg_high, include_bias=False)\n",
        "Xh = poly_high.fit_transform(X)\n",
        "\n",
        "lin_high = LinearRegression().fit(Xh, y)\n",
        "ridge_01 = Ridge(alpha=0.1).fit(Xh, y)\n",
        "ridge_1  = Ridge(alpha=1.0).fit(Xh, y)\n",
        "ridge_10 = Ridge(alpha=10.0).fit(Xh, y)\n",
        "\n",
        "plt.figure(figsize=(6,4))\n",
        "plt.scatter(X, y, alpha=0.35, label=\"data\")\n",
        "plt.plot(X, lin_high.predict(Xh), linewidth=2, label=\"deg=10 (no reg)\")\n",
        "plt.plot(X, ridge_01.predict(Xh), linewidth=2, label=\"Ridge α=0.1\")\n",
        "plt.plot(X, ridge_1.predict(Xh),  linewidth=2, label=\"Ridge α=1\")\n",
        "plt.plot(X, ridge_10.predict(Xh), linewidth=2, label=\"Ridge α=10\")\n",
        "plt.title(\"Regularization reduces overfitting (same high-degree features)\")\n",
        "plt.xlabel(\"x\"); plt.ylabel(\"y\"); plt.legend()\n",
        "show()"
      ],
      "id": "GdCJMfHEG8eU"
    },
    {
      "cell_type": "markdown",
      "metadata": {
        "id": "AH4yXl4eG8eV"
      },
      "source": [
        "##Ground Truth vs Learned Curve"
      ],
      "id": "AH4yXl4eG8eV"
    },
    {
      "cell_type": "code",
      "metadata": {
        "id": "BiVgHRbEG8eV"
      },
      "execution_count": null,
      "outputs": [],
      "source": [
        "plt.figure(figsize=(6,4))\n",
        "plt.scatter(X, y, alpha=0.25, label=\"data\")\n",
        "plt.plot(X, y_true, linewidth=2, label=\"ground truth (noise-free)\")\n",
        "plt.plot(X, y_poly3, linewidth=2, linestyle=\"--\", label=\"polynomial degree=3\")\n",
        "plt.title(\"Ground truth vs learned model\")\n",
        "plt.xlabel(\"x\"); plt.ylabel(\"y\"); plt.legend()\n",
        "show()"
      ],
      "id": "BiVgHRbEG8eV"
    },
    {
      "cell_type": "markdown",
      "metadata": {
        "id": "C8LctDsGG8eV"
      },
      "source": [
        "##Interactive Polynomial Degree Slider"
      ],
      "id": "C8LctDsGG8eV"
    },
    {
      "cell_type": "code",
      "metadata": {
        "id": "wp6XeUTFG8eV"
      },
      "execution_count": null,
      "outputs": [],
      "source": [
        "try:\n",
        "    from ipywidgets import interact, IntSlider\n",
        "\n",
        "    def fit_and_plot_degree(d=3):\n",
        "        model = Pipeline([\n",
        "            (\"poly\", PolynomialFeatures(degree=d, include_bias=False)),\n",
        "            (\"lin\", LinearRegression())\n",
        "        ]).fit(X, y)\n",
        "        plt.figure(figsize=(6,4))\n",
        "        plt.scatter(X, y, alpha=0.35, label=\"data\")\n",
        "        plt.plot(X, model.predict(X), linewidth=2, label=f\"degree={d}\")\n",
        "        plt.title(\"Interactive: change polynomial degree\")\n",
        "        plt.xlabel(\"x\"); plt.ylabel(\"y\"); plt.legend()\n",
        "        show()\n",
        "\n",
        "    interact(fit_and_plot_degree, d=IntSlider(min=1, max=25, step=1, value=3));\n",
        "except Exception as e:\n",
        "    print(\"Interactive widget unavailable in this environment:\", e)"
      ],
      "id": "wp6XeUTFG8eV"
    },
    {
      "cell_type": "code",
      "source": [],
      "metadata": {
        "id": "ZrPuBO1JH0Mm"
      },
      "id": "ZrPuBO1JH0Mm",
      "execution_count": null,
      "outputs": []
    }
  ],
  "metadata": {
    "kernelspec": {
      "display_name": "Python 3",
      "language": "python",
      "name": "python3"
    },
    "language_info": {
      "name": "python",
      "version": "3.x"
    },
    "colab": {
      "provenance": []
    }
  },
  "nbformat": 4,
  "nbformat_minor": 5
}